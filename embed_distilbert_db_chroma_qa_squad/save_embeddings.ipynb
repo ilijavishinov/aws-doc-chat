{
 "cells": [
  {
   "cell_type": "code",
   "execution_count": 4,
   "metadata": {
    "collapsed": true
   },
   "outputs": [
    {
     "name": "stderr",
     "output_type": "stream",
     "text": [
      "Loading chunks of docs into df: 100%|██████████| 5/5 [00:53<00:00, 10.75s/it]\n"
     ]
    },
    {
     "name": "stdout",
     "output_type": "stream",
     "text": [
      "Running Chroma using direct local API.\n",
      "Using DuckDB in-memory for database. Data will be transient.\n"
     ]
    }
   ],
   "source": [
    "import utils_dir.ingest_data as ingest_data\n",
    "import utils_dir.chroma_utils as utils\n",
    "\n",
    "model_name = \"sentence-transformers/distilbert-base-nli-stsb-mean-tokens\"\n",
    "docs_dir = 'docs_loka'\n",
    "collection_path = \"D:\\python_projects\\loka_final\\openai\"\n",
    "collection_name = \"aws\"\n",
    "\n",
    "df = ingest_data.df_from_documentation_distilbert(docs_dir = docs_dir, model_name = model_name)\n",
    "\n",
    "collection = utils.create_chromadb_collection(path = collection_path,\n",
    "                                              name = collection_name)\n",
    "\n",
    "utils.add_df_rows_to_collection(collection = collection,\n",
    "                                df = df)"
   ]
  },
  {
   "cell_type": "code",
   "execution_count": 7,
   "outputs": [
    {
     "data": {
      "text/plain": "'Us-west-2:651393343886:endpoint/sample-endpoint.'"
     },
     "execution_count": 7,
     "metadata": {},
     "output_type": "execute_result"
    }
   ],
   "source": [
    "question = 'What is Sagemaker?'\n",
    "\n",
    "results = utils.get_top_docs(question = question,\n",
    "                             collection = collection,\n",
    "                             model_name = model_name,\n",
    "                             n_results = 10)\n",
    "\n",
    "utils.answer_q_from_docs(question = question,\n",
    "                         documents = results['documents'][0])"
   ],
   "metadata": {
    "collapsed": false,
    "pycharm": {
     "name": "#%%\n"
    }
   }
  },
  {
   "cell_type": "code",
   "execution_count": 8,
   "outputs": [
    {
     "name": "stdout",
     "output_type": "stream",
     "text": [
      "sagemaker_documentation/amazon-sagemaker-toolkits\n",
      "sagemaker_documentation/asff-resourcedetails-awssagemaker\n"
     ]
    }
   ],
   "source": [
    "for meta in results['metadatas'][0]:\n",
    "    print(meta['source'])\n"
   ],
   "metadata": {
    "collapsed": false,
    "pycharm": {
     "name": "#%%\n"
    }
   }
  },
  {
   "cell_type": "code",
   "execution_count": null,
   "outputs": [],
   "source": [],
   "metadata": {
    "collapsed": false,
    "pycharm": {
     "name": "#%%\n"
    }
   }
  }
 ],
 "metadata": {
  "kernelspec": {
   "display_name": "Python 3",
   "language": "python",
   "name": "python3"
  },
  "language_info": {
   "codemirror_mode": {
    "name": "ipython",
    "version": 2
   },
   "file_extension": ".py",
   "mimetype": "text/x-python",
   "name": "python",
   "nbconvert_exporter": "python",
   "pygments_lexer": "ipython2",
   "version": "2.7.6"
  }
 },
 "nbformat": 4,
 "nbformat_minor": 0
}
